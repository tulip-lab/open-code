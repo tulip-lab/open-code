{
  "cells": [
    {
      "cell_type": "code",
      "execution_count": null,
      "metadata": {
        "colab": {
          "base_uri": "https://localhost:8080/"
        },
        "id": "adkv0_8qNCbK",
        "outputId": "3609e0f9-8d59-40b0-c1c0-87f36d81208f"
      },
      "outputs": [],
      "source": [
        "%pip install pgmpy\n",
        "%pip install pyitlib"
      ]
    },
    {
      "cell_type": "code",
      "execution_count": null,
      "metadata": {},
      "outputs": [],
      "source": [
        "import numpy as np\n",
        "import tensorflow as tf\n",
        "from tensorflow.python.ops import math_ops, array_ops\n",
        "from tensorflow.keras.constraints import Constraint\n",
        "from tensorflow.keras.activations import softmax\n",
        "class softmax_weight(Constraint):\n",
        "    \"\"\"Constrains weight tensors to be under softmax `.\"\"\"\n",
        "  \n",
        "    def __init__(self,feature_uniques):\n",
        "        idxs = math_ops.cumsum([0] + feature_uniques)\n",
        "        idxs = [i.numpy() for i in idxs]\n",
        "        self.feature_idxs = [\n",
        "            (idxs[i],idxs[i+1]) for i in range(len(idxs)-1)\n",
        "        ]\n",
        "  \n",
        "    def __call__(self, w):     \n",
        "        w_new = [\n",
        "            math_ops.log(softmax(w[i:j,:], axis=0))\n",
        "            for i,j in self.feature_idxs\n",
        "        ]\n",
        "        return tf.concat(w_new, 0)\n",
        "  \n",
        "    def get_config(self):\n",
        "        return {'feature_idxs': self.feature_idxs}"
      ]
    },
    {
      "cell_type": "code",
      "execution_count": 16,
      "metadata": {},
      "outputs": [],
      "source": [
        "def sample(*arrays, size=None, frac=None):\n",
        "    '''\n",
        "    random sample from arrays.\n",
        "    \n",
        "    Note: arrays must be equal-length\n",
        "    \n",
        "    size = None (default) indicate that return a permutation of given arrays.\n",
        "    '''\n",
        "    if len(arrays) < 1:\n",
        "        return None\n",
        "    if frac is not None and frac <= 1 and frac > 0:\n",
        "        size = int(len(arrays[0]) * frac)\n",
        "    if size is None:\n",
        "        size = len(arrays[0])\n",
        "        \n",
        "    random_idxs = np.random.permutation(len(arrays[0]))[:size]\n",
        "    results = []\n",
        "    for arr in arrays:\n",
        "        results.append(arr[random_idxs])\n",
        "    return results"
      ]
    },
    {
      "cell_type": "markdown",
      "metadata": {},
      "source": [
        "# GANBLR"
      ]
    },
    {
      "cell_type": "code",
      "execution_count": 17,
      "metadata": {},
      "outputs": [],
      "source": [
        "def elr_loss(KL_LOSS):\n",
        "  def loss(y_true, y_pred):\n",
        "    return tf.keras.losses.sparse_categorical_crossentropy(y_true, y_pred)+ KL_LOSS\n",
        "  return loss"
      ]
    },
    {
      "cell_type": "code",
      "execution_count": 54,
      "metadata": {},
      "outputs": [],
      "source": [
        "#from tensorflow.keras.layers import Concatenate\n",
        "from tensorflow.keras.backend import clear_session\n",
        "from tensorflow.keras.layers import Dense\n",
        "from sklearn.preprocessing import OneHotEncoder\n",
        "class GANBLR:\n",
        "    def __init__(self, log=True):\n",
        "        self.g = None\n",
        "        self.d = None\n",
        "        self.log = log\n",
        "        self.g_history = []\n",
        "        self.d_history = []\n",
        "        \n",
        "        self.batch_size = 32 # default value\n",
        "        self.feature_uniques = []\n",
        "        self.class_unique = 0\n",
        "        self.g_input_dim = 0\n",
        "        self.d_input_dim = 0\n",
        "        self.y_counts = []\n",
        "    \n",
        "    def generate(self, size=None, ohe=False):\n",
        "        from pgmpy.models import NaiveBayes\n",
        "        from pgmpy.sampling import BayesianModelSampling\n",
        "        from pgmpy.factors.discrete import TabularCPD\n",
        "        #basic varibles\n",
        "        weights = self.g.get_weights()[0]\n",
        "        n_features = len(self.feature_uniques)\n",
        "        n_classes = weights.shape[1]\n",
        "        n_samples = np.sum(self.class_counts)\n",
        "        #cut weights by feature uniques\n",
        "        idxs = np.cumsum([0] + self.feature_uniques)\n",
        "        feature_idxs  = [(idxs[i],idxs[i+1]) for i in range(len(idxs)-1)]\n",
        "        feature_names = [str(i) for i in range(n_features)]\n",
        "        #get cpd of features\n",
        "        feature_probs = np.exp(weights)\n",
        "        feature_cpd_probs = [feature_probs[start:end,:] for start, end in feature_idxs]\n",
        "        feature_cpd_probs = [p/p.sum(axis=0,keepdims=1) for p in feature_cpd_probs]\n",
        "        feature_cpds = [\n",
        "            TabularCPD(name, n_unique, table, evidence=['y'], evidence_card=[n_classes])\n",
        "            for name, n_unique, table in zip(feature_names, self.feature_uniques, feature_cpd_probs)\n",
        "        ]\n",
        "        #get cpd of label\n",
        "        y_probs = (self.class_counts/n_samples).reshape(-1,1)\n",
        "        y_cpd = TabularCPD('y', n_classes, y_probs)\n",
        "    \n",
        "        #define the model\n",
        "        elr = NaiveBayes(feature_names, 'y')\n",
        "        elr.add_cpds(y_cpd, *feature_cpds)\n",
        "        #sampling\n",
        "        sample_size = n_samples if size is None else size\n",
        "        result = BayesianModelSampling(elr).forward_sample(size=sample_size)\n",
        "        sorted_result = result[feature_names + ['y']].values\n",
        "        #return\n",
        "        syn_X, syn_y = sorted_result[:,:-1], sorted_result[:,-1]\n",
        "    \n",
        "        if ohe:\n",
        "            ohe_syn_X = [np.eye(b)[syn_X[:,i]] for i, b in enumerate(self.feature_uniques)]\n",
        "            ohe_syn_X = np.hstack(ohe_syn_X)\n",
        "            return ohe_syn_X, syn_y\n",
        "        else:\n",
        "            return sorted_result\n",
        "        \n",
        "    def fit(self, X, y, epochs\n",
        "                , batch_size=32, warm_up_epochs=10):\n",
        "\n",
        "        ohe = OneHotEncoder().fit(X)\n",
        "        ohe_X = ohe.transform(X).toarray()\n",
        "        #feature_uniques = [len(np.unique(X[:,i])) for i in range(X.shape[1])]\n",
        "        self.feature_uniques = [len(c) for c in ohe.categories_]\n",
        "        y_unique, y_counts = np.unique(y, return_counts=True)\n",
        "        self.class_unique = len(y_unique)\n",
        "        self.class_counts = y_counts\n",
        "        self.g_input_dim = np.sum(self.feature_uniques)\n",
        "        self.d_input_dim = X.shape[1]\n",
        "        self.batch_size = batch_size\n",
        "        self._build_g()\n",
        "        self._build_d()\n",
        "        \n",
        "        #warm up\n",
        "        self.g.fit(ohe_X, y, epochs=warm_up_epochs, batch_size=batch_size)\n",
        "        syn_data  = self.generate(size=len(X))\n",
        "        #real_data = np.concatenate([X, y.reshape(-1,1)], axis=-1)\n",
        "        for i in range(epochs):\n",
        "            #prepare data\n",
        "            real_label = np.ones(len(X))\n",
        "            syn_label = np.zeros(len(X))\n",
        "            disc_label = np.concatenate([real_label, syn_label])    \n",
        "            disc_X = np.vstack([X, syn_data[:,:-1]])    \n",
        "            disc_X, disc_label = sample(disc_X, disc_label, frac=0.8)\n",
        "            #train d\n",
        "            self._train_d(disc_X, disc_label)\n",
        "            prob_fake = self.d.predict(X)\n",
        "            ls = np.mean(-np.log(np.subtract(1,prob_fake)))\n",
        "            #train g\n",
        "            self._train_g(ohe_X, y, loss=ls)\n",
        "            syn_data = self.generate(size=len(X))\n",
        "\n",
        "    def _train_g(self, X, y, epochs=1, loss=None):\n",
        "        if loss is not None:\n",
        "            clear_session()\n",
        "            self._build_g(weights=self.g.get_weights(), loss=loss)\n",
        "            self._build_d(weights=self.d.get_weights())\n",
        "            \n",
        "        history = self.g.fit(X, y, epochs=epochs, batch_size=self.batch_size)\n",
        "        if self.log:\n",
        "            self.g_history.append(history.history)\n",
        "    \n",
        "    def _train_d(self, X, y, epochs=1):\n",
        "        history = self.d.fit(X, y, batch_size=self.batch_size, epochs=epochs)      \n",
        "        if self.log:\n",
        "            self.d_history.append(history.history)  \n",
        "            \n",
        "    def _build_g(self, weights=None, loss=None):\n",
        "        if loss is None:\n",
        "            loss = elr_loss(0)\n",
        "        else:\n",
        "            loss = elr_loss(loss)\n",
        "        constraint = softmax_weight(self.feature_uniques)\n",
        "        g = tf.keras.Sequential()    \n",
        "        g.add(Dense(self.class_unique, input_dim=self.g_input_dim, activation='softmax',kernel_constraint=constraint))\n",
        "        g.compile(loss=loss, optimizer='adam', metrics=['accuracy'])\n",
        "        self.g = g\n",
        "        \n",
        "        if weights is not None:\n",
        "            g.set_weights(weights)\n",
        "        return g\n",
        "    \n",
        "    def _build_d(self, weights=None):\n",
        "        d = tf.keras.Sequential()\n",
        "        d.add(Dense(1, input_dim=self.d_input_dim, activation='sigmoid'))\n",
        "        d.compile(loss='binary_crossentropy', optimizer='adam', metrics=['accuracy'])\n",
        "        \n",
        "        self.d = d\n",
        "        \n",
        "        if weights is not None:\n",
        "            d.set_weights(weights)\n",
        "        return d"
      ]
    },
    {
      "cell_type": "markdown",
      "metadata": {},
      "source": [
        "# Test"
      ]
    },
    {
      "cell_type": "code",
      "execution_count": 55,
      "metadata": {},
      "outputs": [
        {
          "name": "stdout",
          "output_type": "stream",
          "text": [
            "(48842, 15)\n",
            "2\n"
          ]
        }
      ],
      "source": [
        "import pandas as pd\n",
        "import numpy as np\n",
        "import tensorflow as tf\n",
        "import matplotlib.pyplot as plt\n",
        "from sklearn.preprocessing import OneHotEncoder, OrdinalEncoder\n",
        "from sklearn.model_selection import train_test_split\n",
        "\n",
        "df = pd.read_csv('adult.csv',dtype='category')\n",
        "df1 = OrdinalEncoder().fit_transform(df).astype('int')\n",
        "print(df.shape)\n",
        "X = df1[:,0:-1]\n",
        "y = df1[:,-1]  \n",
        "print(len(np.unique(y)))"
      ]
    },
    {
      "cell_type": "code",
      "execution_count": 56,
      "metadata": {},
      "outputs": [],
      "source": [
        "X_train, X_test, y_train, y_test = train_test_split(X, y, test_size=0.5)"
      ]
    },
    {
      "cell_type": "code",
      "execution_count": 57,
      "metadata": {},
      "outputs": [
        {
          "name": "stdout",
          "output_type": "stream",
          "text": [
            "Epoch 1/5\n",
            "764/764 [==============================] - 1s 1ms/step - loss: 0.4287 - accuracy: 0.7908\n",
            "Epoch 2/5\n",
            "764/764 [==============================] - 1s 1ms/step - loss: 0.3163 - accuracy: 0.8580\n",
            "Epoch 3/5\n",
            "764/764 [==============================] - 1s 1ms/step - loss: 0.3002 - accuracy: 0.8652\n",
            "Epoch 4/5\n",
            "764/764 [==============================] - 1s 1ms/step - loss: 0.2921 - accuracy: 0.8684\n",
            "Epoch 5/5\n",
            "764/764 [==============================] - 1s 1ms/step - loss: 0.2872 - accuracy: 0.8696\n"
          ]
        },
        {
          "name": "stderr",
          "output_type": "stream",
          "text": [
            "Generating for node: 7: 100%|██████████| 15/15 [00:02<00:00,  6.81it/s] \n"
          ]
        },
        {
          "name": "stdout",
          "output_type": "stream",
          "text": [
            "   1/1222 [..............................] - ETA: 0s - loss: 11.5582 - accuracy: 0.4375WARNING:tensorflow:Callbacks method `on_train_batch_end` is slow compared to the batch time (batch time: 0.0000s vs `on_train_batch_end` time: 0.0010s). Check your callbacks.\n",
            "1222/1222 [==============================] - 1s 1ms/step - loss: 1.4900 - accuracy: 0.7734\n",
            "764/764 [==============================] - 1s 1ms/step - loss: 5.3142 - accuracy: 0.8717\n"
          ]
        },
        {
          "name": "stderr",
          "output_type": "stream",
          "text": [
            "Generating for node: 7: 100%|██████████| 15/15 [00:02<00:00,  6.58it/s] \n"
          ]
        },
        {
          "name": "stdout",
          "output_type": "stream",
          "text": [
            "1222/1222 [==============================] - 1s 1ms/step - loss: 0.1809 - accuracy: 0.9372\n",
            "764/764 [==============================] - 1s 1ms/step - loss: 4.9767 - accuracy: 0.8724\n"
          ]
        },
        {
          "name": "stderr",
          "output_type": "stream",
          "text": [
            "Generating for node: 7: 100%|██████████| 15/15 [00:02<00:00,  6.50it/s] \n"
          ]
        },
        {
          "name": "stdout",
          "output_type": "stream",
          "text": [
            "1222/1222 [==============================] - 2s 1ms/step - loss: 0.1179 - accuracy: 0.9563\n",
            "764/764 [==============================] - 1s 1ms/step - loss: 4.9983 - accuracy: 0.8736\n"
          ]
        },
        {
          "name": "stderr",
          "output_type": "stream",
          "text": [
            "Generating for node: 7: 100%|██████████| 15/15 [00:02<00:00,  6.62it/s] \n"
          ]
        },
        {
          "name": "stdout",
          "output_type": "stream",
          "text": [
            "1222/1222 [==============================] - 1s 1ms/step - loss: 0.1093 - accuracy: 0.9594\n",
            "764/764 [==============================] - 1s 1ms/step - loss: 5.1443 - accuracy: 0.8738\n"
          ]
        },
        {
          "name": "stderr",
          "output_type": "stream",
          "text": [
            "Generating for node: 7: 100%|██████████| 15/15 [00:02<00:00,  5.84it/s] \n"
          ]
        },
        {
          "name": "stdout",
          "output_type": "stream",
          "text": [
            "1222/1222 [==============================] - 1s 1ms/step - loss: 0.1074 - accuracy: 0.9599\n",
            "764/764 [==============================] - 1s 1ms/step - loss: 4.7860 - accuracy: 0.8732: 0s -\n"
          ]
        },
        {
          "name": "stderr",
          "output_type": "stream",
          "text": [
            "Generating for node: 7: 100%|██████████| 15/15 [00:02<00:00,  6.32it/s] \n"
          ]
        },
        {
          "name": "stdout",
          "output_type": "stream",
          "text": [
            "1222/1222 [==============================] - 1s 1ms/step - loss: 0.1077 - accuracy: 0.9592\n",
            "764/764 [==============================] - 1s 1ms/step - loss: 5.1263 - accuracy: 0.8745\n"
          ]
        },
        {
          "name": "stderr",
          "output_type": "stream",
          "text": [
            "Generating for node: 7: 100%|██████████| 15/15 [00:02<00:00,  6.49it/s] \n"
          ]
        },
        {
          "name": "stdout",
          "output_type": "stream",
          "text": [
            "1222/1222 [==============================] - 2s 1ms/step - loss: 0.1065 - accuracy: 0.9598\n",
            "764/764 [==============================] - 1s 2ms/step - loss: 4.9310 - accuracy: 0.8737\n"
          ]
        },
        {
          "name": "stderr",
          "output_type": "stream",
          "text": [
            "Generating for node: 7: 100%|██████████| 15/15 [00:02<00:00,  5.67it/s] \n"
          ]
        },
        {
          "name": "stdout",
          "output_type": "stream",
          "text": [
            "1222/1222 [==============================] - 2s 1ms/step - loss: 0.1062 - accuracy: 0.9610\n",
            "764/764 [==============================] - 1s 1ms/step - loss: 5.1388 - accuracy: 0.8736\n"
          ]
        },
        {
          "name": "stderr",
          "output_type": "stream",
          "text": [
            "Generating for node: 7: 100%|██████████| 15/15 [00:02<00:00,  6.49it/s] \n"
          ]
        },
        {
          "name": "stdout",
          "output_type": "stream",
          "text": [
            "1222/1222 [==============================] - 1s 1ms/step - loss: 0.1071 - accuracy: 0.9598\n",
            "764/764 [==============================] - 1s 2ms/step - loss: 5.0372 - accuracy: 0.8748\n"
          ]
        },
        {
          "name": "stderr",
          "output_type": "stream",
          "text": [
            "Generating for node: 7: 100%|██████████| 15/15 [00:02<00:00,  6.23it/s] \n"
          ]
        },
        {
          "name": "stdout",
          "output_type": "stream",
          "text": [
            "1222/1222 [==============================] - 2s 1ms/step - loss: 0.1058 - accuracy: 0.9598\n",
            "  1/764 [..............................] - ETA: 0s - loss: 5.3605 - accuracy: 0.8438WARNING:tensorflow:Callbacks method `on_train_batch_begin` is slow compared to the batch time (batch time: 0.0010s vs `on_train_batch_begin` time: 0.0023s). Check your callbacks.\n",
            "764/764 [==============================] - 1s 1ms/step - loss: 5.2654 - accuracy: 0.8749\n"
          ]
        },
        {
          "name": "stderr",
          "output_type": "stream",
          "text": [
            "Generating for node: 7: 100%|██████████| 15/15 [00:02<00:00,  6.52it/s] \n"
          ]
        },
        {
          "name": "stdout",
          "output_type": "stream",
          "text": [
            "1222/1222 [==============================] - 1s 1ms/step - loss: 0.1062 - accuracy: 0.9604\n",
            "764/764 [==============================] - 1s 1ms/step - loss: 5.0709 - accuracy: 0.8746\n"
          ]
        },
        {
          "name": "stderr",
          "output_type": "stream",
          "text": [
            "Generating for node: 7: 100%|██████████| 15/15 [00:02<00:00,  6.44it/s] \n"
          ]
        },
        {
          "name": "stdout",
          "output_type": "stream",
          "text": [
            "1222/1222 [==============================] - 1s 1ms/step - loss: 0.1069 - accuracy: 0.9600\n",
            "764/764 [==============================] - 1s 1ms/step - loss: 4.9736 - accuracy: 0.8742\n"
          ]
        },
        {
          "name": "stderr",
          "output_type": "stream",
          "text": [
            "Generating for node: 7: 100%|██████████| 15/15 [00:02<00:00,  6.32it/s] \n"
          ]
        },
        {
          "name": "stdout",
          "output_type": "stream",
          "text": [
            "1222/1222 [==============================] - 2s 1ms/step - loss: 0.1044 - accuracy: 0.9605\n",
            "764/764 [==============================] - 1s 1ms/step - loss: 4.8634 - accuracy: 0.8743\n"
          ]
        },
        {
          "name": "stderr",
          "output_type": "stream",
          "text": [
            "Generating for node: 7: 100%|██████████| 15/15 [00:02<00:00,  6.43it/s] \n"
          ]
        },
        {
          "name": "stdout",
          "output_type": "stream",
          "text": [
            "1222/1222 [==============================] - 2s 1ms/step - loss: 0.1052 - accuracy: 0.9601\n",
            "764/764 [==============================] - 1s 1ms/step - loss: 5.1332 - accuracy: 0.8746\n"
          ]
        },
        {
          "name": "stderr",
          "output_type": "stream",
          "text": [
            "Generating for node: 7: 100%|██████████| 15/15 [00:02<00:00,  6.44it/s] \n"
          ]
        },
        {
          "name": "stdout",
          "output_type": "stream",
          "text": [
            "1222/1222 [==============================] - 2s 1ms/step - loss: 0.1044 - accuracy: 0.9608\n",
            "764/764 [==============================] - 1s 1ms/step - loss: 4.8822 - accuracy: 0.8746\n"
          ]
        },
        {
          "name": "stderr",
          "output_type": "stream",
          "text": [
            "Generating for node: 7: 100%|██████████| 15/15 [00:02<00:00,  5.04it/s] \n"
          ]
        },
        {
          "name": "stdout",
          "output_type": "stream",
          "text": [
            "1222/1222 [==============================] - 2s 1ms/step - loss: 0.1056 - accuracy: 0.9605\n",
            "764/764 [==============================] - 1s 1ms/step - loss: 4.8674 - accuracy: 0.8742\n"
          ]
        },
        {
          "name": "stderr",
          "output_type": "stream",
          "text": [
            "Generating for node: 7: 100%|██████████| 15/15 [00:02<00:00,  6.43it/s] \n"
          ]
        },
        {
          "name": "stdout",
          "output_type": "stream",
          "text": [
            "1222/1222 [==============================] - 1s 1ms/step - loss: 0.1018 - accuracy: 0.9617\n",
            "764/764 [==============================] - 1s 1ms/step - loss: 5.3717 - accuracy: 0.8739\n"
          ]
        },
        {
          "name": "stderr",
          "output_type": "stream",
          "text": [
            "Generating for node: 7: 100%|██████████| 15/15 [00:02<00:00,  6.48it/s] \n"
          ]
        },
        {
          "name": "stdout",
          "output_type": "stream",
          "text": [
            "1222/1222 [==============================] - 2s 1ms/step - loss: 0.1041 - accuracy: 0.9608\n",
            "764/764 [==============================] - 1s 1ms/step - loss: 4.9856 - accuracy: 0.8741\n"
          ]
        },
        {
          "name": "stderr",
          "output_type": "stream",
          "text": [
            "Generating for node: 7: 100%|██████████| 15/15 [00:02<00:00,  6.53it/s] \n"
          ]
        },
        {
          "name": "stdout",
          "output_type": "stream",
          "text": [
            "1222/1222 [==============================] - 1s 1ms/step - loss: 0.1055 - accuracy: 0.9607\n",
            "764/764 [==============================] - 1s 1ms/step - loss: 5.2752 - accuracy: 0.8745\n"
          ]
        },
        {
          "name": "stderr",
          "output_type": "stream",
          "text": [
            "Generating for node: 7: 100%|██████████| 15/15 [00:02<00:00,  6.53it/s] \n"
          ]
        },
        {
          "name": "stdout",
          "output_type": "stream",
          "text": [
            "1222/1222 [==============================] - 1s 1ms/step - loss: 0.1046 - accuracy: 0.9614\n",
            "764/764 [==============================] - 1s 1ms/step - loss: 4.8648 - accuracy: 0.8743\n"
          ]
        },
        {
          "name": "stderr",
          "output_type": "stream",
          "text": [
            "Generating for node: 7: 100%|██████████| 15/15 [00:02<00:00,  6.37it/s] \n"
          ]
        },
        {
          "name": "stdout",
          "output_type": "stream",
          "text": [
            "1222/1222 [==============================] - ETA: 0s - loss: 0.0994 - accuracy: 0.9632 ETA: 0s - loss: 0 - 2s 1ms/step - loss: 0.1000 - accuracy: 0.9629\n",
            "764/764 [==============================] - 1s 1ms/step - loss: 5.1821 - accuracy: 0.8749\n"
          ]
        },
        {
          "name": "stderr",
          "output_type": "stream",
          "text": [
            "Generating for node: 7: 100%|██████████| 15/15 [00:02<00:00,  6.43it/s] \n"
          ]
        },
        {
          "name": "stdout",
          "output_type": "stream",
          "text": [
            "1222/1222 [==============================] - 1s 1ms/step - loss: 0.1040 - accuracy: 0.9608\n",
            "764/764 [==============================] - 1s 1ms/step - loss: 4.7648 - accuracy: 0.8743\n"
          ]
        },
        {
          "name": "stderr",
          "output_type": "stream",
          "text": [
            "Generating for node: 7: 100%|██████████| 15/15 [00:02<00:00,  6.43it/s] \n"
          ]
        },
        {
          "name": "stdout",
          "output_type": "stream",
          "text": [
            "1222/1222 [==============================] - 1s 1ms/step - loss: 0.1019 - accuracy: 0.9623\n",
            "764/764 [==============================] - 1s 1ms/step - loss: 5.2660 - accuracy: 0.8755\n"
          ]
        },
        {
          "name": "stderr",
          "output_type": "stream",
          "text": [
            "Generating for node: 7: 100%|██████████| 15/15 [00:02<00:00,  6.36it/s] \n"
          ]
        },
        {
          "name": "stdout",
          "output_type": "stream",
          "text": [
            "1222/1222 [==============================] - 2s 2ms/step - loss: 0.1056 - accuracy: 0.9603\n",
            "764/764 [==============================] - 1s 2ms/step - loss: 5.0371 - accuracy: 0.8749\n"
          ]
        },
        {
          "name": "stderr",
          "output_type": "stream",
          "text": [
            "Generating for node: 7: 100%|██████████| 15/15 [00:03<00:00,  4.93it/s] \n"
          ]
        },
        {
          "name": "stdout",
          "output_type": "stream",
          "text": [
            "1222/1222 [==============================] - 1s 1ms/step - loss: 0.1017 - accuracy: 0.9630\n",
            "764/764 [==============================] - 1s 1ms/step - loss: 5.2078 - accuracy: 0.8744: 0s\n"
          ]
        },
        {
          "name": "stderr",
          "output_type": "stream",
          "text": [
            "Generating for node: 7: 100%|██████████| 15/15 [00:02<00:00,  6.43it/s] \n"
          ]
        },
        {
          "name": "stdout",
          "output_type": "stream",
          "text": [
            "1222/1222 [==============================] - 1s 1ms/step - loss: 0.0996 - accuracy: 0.9629\n",
            "764/764 [==============================] - 1s 1ms/step - loss: 4.7983 - accuracy: 0.8747\n"
          ]
        },
        {
          "name": "stderr",
          "output_type": "stream",
          "text": [
            "Generating for node: 7: 100%|██████████| 15/15 [00:02<00:00,  6.33it/s] \n"
          ]
        },
        {
          "name": "stdout",
          "output_type": "stream",
          "text": [
            "   1/1222 [..............................] - ETA: 0s - loss: 0.1206 - accuracy: 0.9375WARNING:tensorflow:Callbacks method `on_train_batch_end` is slow compared to the batch time (batch time: 0.0000s vs `on_train_batch_end` time: 0.0010s). Check your callbacks.\n",
            "1222/1222 [==============================] - 1s 1ms/step - loss: 0.1031 - accuracy: 0.9607: 0s - loss: 0.1032 - accuracy: 0.96\n",
            "764/764 [==============================] - 1s 1ms/step - loss: 5.0899 - accuracy: 0.8749\n"
          ]
        },
        {
          "name": "stderr",
          "output_type": "stream",
          "text": [
            "Generating for node: 7: 100%|██████████| 15/15 [00:02<00:00,  6.38it/s] \n"
          ]
        },
        {
          "name": "stdout",
          "output_type": "stream",
          "text": [
            "1222/1222 [==============================] - 1s 1ms/step - loss: 0.1008 - accuracy: 0.9618\n",
            "764/764 [==============================] - 1s 1ms/step - loss: 4.7092 - accuracy: 0.8749\n"
          ]
        },
        {
          "name": "stderr",
          "output_type": "stream",
          "text": [
            "Generating for node: 7: 100%|██████████| 15/15 [00:02<00:00,  6.53it/s] \n"
          ]
        },
        {
          "name": "stdout",
          "output_type": "stream",
          "text": [
            "1222/1222 [==============================] - 1s 1ms/step - loss: 0.1005 - accuracy: 0.9620\n",
            "764/764 [==============================] - 1s 1ms/step - loss: 4.9319 - accuracy: 0.8746\n"
          ]
        },
        {
          "name": "stderr",
          "output_type": "stream",
          "text": [
            "Generating for node: 7: 100%|██████████| 15/15 [00:02<00:00,  6.29it/s] \n"
          ]
        },
        {
          "name": "stdout",
          "output_type": "stream",
          "text": [
            "1222/1222 [==============================] - 1s 1ms/step - loss: 0.1015 - accuracy: 0.9615: 0s - l\n",
            "764/764 [==============================] - 1s 1ms/step - loss: 5.1096 - accuracy: 0.8749\n"
          ]
        },
        {
          "name": "stderr",
          "output_type": "stream",
          "text": [
            "Generating for node: 7: 100%|██████████| 15/15 [00:02<00:00,  6.39it/s] \n"
          ]
        },
        {
          "name": "stdout",
          "output_type": "stream",
          "text": [
            "1222/1222 [==============================] - 1s 1ms/step - loss: 0.0995 - accuracy: 0.9629\n",
            "764/764 [==============================] - 1s 1ms/step - loss: 5.4162 - accuracy: 0.8745\n"
          ]
        },
        {
          "name": "stderr",
          "output_type": "stream",
          "text": [
            "Generating for node: 7: 100%|██████████| 15/15 [00:02<00:00,  6.61it/s] \n"
          ]
        },
        {
          "name": "stdout",
          "output_type": "stream",
          "text": [
            "1222/1222 [==============================] - 1s 1ms/step - loss: 0.1012 - accuracy: 0.9617\n",
            "764/764 [==============================] - 1s 1ms/step - loss: 5.4820 - accuracy: 0.8747\n"
          ]
        },
        {
          "name": "stderr",
          "output_type": "stream",
          "text": [
            "Generating for node: 7: 100%|██████████| 15/15 [00:02<00:00,  6.48it/s] \n"
          ]
        },
        {
          "name": "stdout",
          "output_type": "stream",
          "text": [
            "1222/1222 [==============================] - 1s 1ms/step - loss: 0.1043 - accuracy: 0.9606\n",
            "764/764 [==============================] - 1s 1ms/step - loss: 5.2207 - accuracy: 0.8751\n"
          ]
        },
        {
          "name": "stderr",
          "output_type": "stream",
          "text": [
            "Generating for node: 7: 100%|██████████| 15/15 [00:02<00:00,  6.38it/s] \n"
          ]
        },
        {
          "name": "stdout",
          "output_type": "stream",
          "text": [
            "1222/1222 [==============================] - 1s 1ms/step - loss: 0.1019 - accuracy: 0.9613\n",
            "764/764 [==============================] - 1s 1ms/step - loss: 5.2596 - accuracy: 0.8740\n"
          ]
        },
        {
          "name": "stderr",
          "output_type": "stream",
          "text": [
            "Generating for node: 7: 100%|██████████| 15/15 [00:02<00:00,  6.51it/s] \n"
          ]
        },
        {
          "name": "stdout",
          "output_type": "stream",
          "text": [
            "1222/1222 [==============================] - 1s 1ms/step - loss: 0.0993 - accuracy: 0.9633\n",
            "764/764 [==============================] - 1s 1ms/step - loss: 5.2640 - accuracy: 0.8743\n"
          ]
        },
        {
          "name": "stderr",
          "output_type": "stream",
          "text": [
            "Generating for node: 7: 100%|██████████| 15/15 [00:02<00:00,  6.54it/s] \n"
          ]
        },
        {
          "name": "stdout",
          "output_type": "stream",
          "text": [
            "1222/1222 [==============================] - 2s 2ms/step - loss: 0.1019 - accuracy: 0.9618\n",
            "764/764 [==============================] - 2s 2ms/step - loss: 5.2198 - accuracy: 0.8749\n"
          ]
        },
        {
          "name": "stderr",
          "output_type": "stream",
          "text": [
            "Generating for node: 7: 100%|██████████| 15/15 [00:03<00:00,  4.55it/s] \n"
          ]
        },
        {
          "name": "stdout",
          "output_type": "stream",
          "text": [
            "1222/1222 [==============================] - 2s 1ms/step - loss: 0.1010 - accuracy: 0.9627\n",
            "764/764 [==============================] - 1s 1ms/step - loss: 5.1233 - accuracy: 0.8752\n"
          ]
        },
        {
          "name": "stderr",
          "output_type": "stream",
          "text": [
            "Generating for node: 7: 100%|██████████| 15/15 [00:02<00:00,  6.16it/s] \n"
          ]
        },
        {
          "name": "stdout",
          "output_type": "stream",
          "text": [
            "1222/1222 [==============================] - 2s 1ms/step - loss: 0.1025 - accuracy: 0.9611\n",
            "764/764 [==============================] - 1s 2ms/step - loss: 5.3221 - accuracy: 0.8750\n"
          ]
        },
        {
          "name": "stderr",
          "output_type": "stream",
          "text": [
            "Generating for node: 7: 100%|██████████| 15/15 [00:02<00:00,  5.01it/s] \n"
          ]
        },
        {
          "name": "stdout",
          "output_type": "stream",
          "text": [
            "1222/1222 [==============================] - 2s 2ms/step - loss: 0.0981 - accuracy: 0.9629\n",
            "764/764 [==============================] - 1s 2ms/step - loss: 5.1703 - accuracy: 0.8754: \n"
          ]
        },
        {
          "name": "stderr",
          "output_type": "stream",
          "text": [
            "Generating for node: 7: 100%|██████████| 15/15 [00:02<00:00,  5.70it/s] \n"
          ]
        },
        {
          "name": "stdout",
          "output_type": "stream",
          "text": [
            "1222/1222 [==============================] - 2s 1ms/step - loss: 0.0987 - accuracy: 0.9629\n",
            "764/764 [==============================] - 1s 2ms/step - loss: 5.4728 - accuracy: 0.8746\n"
          ]
        },
        {
          "name": "stderr",
          "output_type": "stream",
          "text": [
            "Generating for node: 7: 100%|██████████| 15/15 [00:02<00:00,  5.13it/s] \n"
          ]
        },
        {
          "name": "stdout",
          "output_type": "stream",
          "text": [
            "1222/1222 [==============================] - 2s 1ms/step - loss: 0.1011 - accuracy: 0.9620\n",
            "764/764 [==============================] - 1s 2ms/step - loss: 5.0584 - accuracy: 0.8747\n"
          ]
        },
        {
          "name": "stderr",
          "output_type": "stream",
          "text": [
            "Generating for node: 7: 100%|██████████| 15/15 [00:02<00:00,  6.01it/s] \n"
          ]
        },
        {
          "name": "stdout",
          "output_type": "stream",
          "text": [
            "1222/1222 [==============================] - 2s 1ms/step - loss: 0.1037 - accuracy: 0.9611\n",
            "764/764 [==============================] - 1s 2ms/step - loss: 5.2936 - accuracy: 0.8742\n"
          ]
        },
        {
          "name": "stderr",
          "output_type": "stream",
          "text": [
            "Generating for node: 7: 100%|██████████| 15/15 [00:02<00:00,  5.76it/s] \n"
          ]
        },
        {
          "name": "stdout",
          "output_type": "stream",
          "text": [
            "1222/1222 [==============================] - 2s 1ms/step - loss: 0.1024 - accuracy: 0.9612\n",
            "764/764 [==============================] - 1s 1ms/step - loss: 5.2234 - accuracy: 0.8749\n"
          ]
        },
        {
          "name": "stderr",
          "output_type": "stream",
          "text": [
            "Generating for node: 7: 100%|██████████| 15/15 [00:02<00:00,  6.26it/s] \n"
          ]
        },
        {
          "name": "stdout",
          "output_type": "stream",
          "text": [
            "1222/1222 [==============================] - 1s 1ms/step - loss: 0.1006 - accuracy: 0.9624\n",
            "764/764 [==============================] - 1s 1ms/step - loss: 5.2795 - accuracy: 0.8752\n"
          ]
        },
        {
          "name": "stderr",
          "output_type": "stream",
          "text": [
            "Generating for node: 7: 100%|██████████| 15/15 [00:02<00:00,  6.28it/s] \n"
          ]
        },
        {
          "name": "stdout",
          "output_type": "stream",
          "text": [
            "1222/1222 [==============================] - 1s 1ms/step - loss: 0.1037 - accuracy: 0.9606\n",
            "  1/764 [..............................] - ETA: 0s - loss: 5.0518 - accuracy: 0.9062WARNING:tensorflow:Callbacks method `on_train_batch_end` is slow compared to the batch time (batch time: 0.0000s vs `on_train_batch_end` time: 0.0034s). Check your callbacks.\n",
            "764/764 [==============================] - 1s 2ms/step - loss: 5.1426 - accuracy: 0.8745\n"
          ]
        },
        {
          "name": "stderr",
          "output_type": "stream",
          "text": [
            "Generating for node: 7: 100%|██████████| 15/15 [00:02<00:00,  6.31it/s] \n"
          ]
        },
        {
          "name": "stdout",
          "output_type": "stream",
          "text": [
            "1222/1222 [==============================] - 2s 1ms/step - loss: 0.1014 - accuracy: 0.9619\n",
            "764/764 [==============================] - 1s 2ms/step - loss: 5.2181 - accuracy: 0.8742\n"
          ]
        },
        {
          "name": "stderr",
          "output_type": "stream",
          "text": [
            "Generating for node: 7: 100%|██████████| 15/15 [00:02<00:00,  6.10it/s] \n"
          ]
        },
        {
          "name": "stdout",
          "output_type": "stream",
          "text": [
            "1222/1222 [==============================] - 2s 1ms/step - loss: 0.1009 - accuracy: 0.9618\n",
            "764/764 [==============================] - 1s 2ms/step - loss: 4.8664 - accuracy: 0.8747\n"
          ]
        },
        {
          "name": "stderr",
          "output_type": "stream",
          "text": [
            "Generating for node: 7: 100%|██████████| 15/15 [00:02<00:00,  6.28it/s] \n"
          ]
        },
        {
          "name": "stdout",
          "output_type": "stream",
          "text": [
            "1222/1222 [==============================] - 2s 1ms/step - loss: 0.1018 - accuracy: 0.9617\n",
            "764/764 [==============================] - 1s 1ms/step - loss: 4.9298 - accuracy: 0.8745\n"
          ]
        },
        {
          "name": "stderr",
          "output_type": "stream",
          "text": [
            "Generating for node: 7: 100%|██████████| 15/15 [00:02<00:00,  6.10it/s] \n"
          ]
        },
        {
          "name": "stdout",
          "output_type": "stream",
          "text": [
            "1222/1222 [==============================] - 2s 1ms/step - loss: 0.0997 - accuracy: 0.9626\n",
            "764/764 [==============================] - 1s 1ms/step - loss: 4.9629 - accuracy: 0.8749\n"
          ]
        },
        {
          "name": "stderr",
          "output_type": "stream",
          "text": [
            "Generating for node: 7: 100%|██████████| 15/15 [00:02<00:00,  6.30it/s] \n"
          ]
        },
        {
          "name": "stdout",
          "output_type": "stream",
          "text": [
            "1222/1222 [==============================] - 2s 1ms/step - loss: 0.1005 - accuracy: 0.9625\n",
            "764/764 [==============================] - 1s 1ms/step - loss: 5.1672 - accuracy: 0.8752\n"
          ]
        },
        {
          "name": "stderr",
          "output_type": "stream",
          "text": [
            "Generating for node: 7: 100%|██████████| 15/15 [00:02<00:00,  6.18it/s] \n"
          ]
        }
      ],
      "source": [
        "epochs = 50\n",
        "batch_size = 32\n",
        "\n",
        "clear_session()\n",
        "ganblr = GANBLR()\n",
        "ganblr.fit(X_train, y_train, epochs=epochs, warm_up_epochs=5)"
      ]
    },
    {
      "cell_type": "code",
      "execution_count": 60,
      "metadata": {},
      "outputs": [
        {
          "data": {
            "text/plain": [
              "[<matplotlib.lines.Line2D at 0x29fd92b1100>]"
            ]
          },
          "execution_count": 60,
          "metadata": {},
          "output_type": "execute_result"
        },
        {
          "data": {
            "image/png": "[encoded data removed]",
            "text/plain": [
              "<Figure size 432x288 with 1 Axes>"
            ]
          },
          "metadata": {
            "needs_background": "light"
          },
          "output_type": "display_data"
        }
      ],
      "source": [
        "g_loss_log = [d['loss'] for d in ganblr.g_history]\n",
        "d_loss_log = [d['loss'] for d in ganblr.d_history]\n",
        "\n",
        "plt.plot(g_loss_log, label='generator loss')\n",
        "plt.plot(d_loss_log, label='discriminator loss')"
      ]
    },
    {
      "cell_type": "code",
      "execution_count": 61,
      "metadata": {},
      "outputs": [
        {
          "name": "stderr",
          "output_type": "stream",
          "text": [
            "Generating for node: 7: 100%|██████████| 15/15 [00:00<00:00, 357.10it/s]\n"
          ]
        },
        {
          "data": {
            "text/plain": [
              "array([[10,  6,  0, 11,  5,  0,  3,  4,  4,  1, 13, 20,  3, 31,  0],\n",
              "       [ 3,  1,  0, 10,  0,  1,  2,  5,  1,  0,  1, 14,  2, 17,  1],\n",
              "       [ 9,  3,  0,  8,  6,  4, 11,  2,  4,  0,  6,  0,  4, 39,  0],\n",
              "       [ 1,  1,  0,  1,  1,  3,  7,  0,  2,  1, 13, 13,  3,  9,  0],\n",
              "       [10,  8,  0,  0,  6,  6,  4,  4,  4,  1, 17,  9,  0, 27,  0],\n",
              "       [ 9,  0,  0,  2,  0,  3,  8,  4,  4,  0,  8,  9,  3,  7,  0],\n",
              "       [ 7,  1,  0,  6,  5,  4,  7,  0,  0,  1,  0, 13,  2,  3,  0],\n",
              "       [ 5,  3,  0,  3,  2,  6,  2,  0,  1,  1, 13, 18,  5, 17,  0],\n",
              "       [10,  6,  0, 12,  6,  1, 13,  3,  4,  0, 18,  1,  4, 24,  1],\n",
              "       [ 3,  5,  0, 12,  2,  6,  7,  1,  1,  1,  0, 20,  4, 12,  1]],\n",
              "      dtype=int64)"
            ]
          },
          "execution_count": 61,
          "metadata": {},
          "output_type": "execute_result"
        }
      ],
      "source": [
        "ganblr.generate(10)"
      ]
    },
    {
      "cell_type": "code",
      "execution_count": null,
      "metadata": {},
      "outputs": [],
      "source": []
    }
  ],
  "metadata": {
    "colab": {
      "name": "GAN-ELR.ipynb",
      "provenance": []
    },
    "kernelspec": {
      "display_name": "Python 3",
      "name": "python3"
    },
    "language_info": {
      "codemirror_mode": {
        "name": "ipython",
        "version": 3
      },
      "file_extension": ".py",
      "mimetype": "text/x-python",
      "name": "python",
      "nbconvert_exporter": "python",
      "pygments_lexer": "ipython3",
      "version": "3.8.7"
    }
  },
  "nbformat": 4,
  "nbformat_minor": 0
}
